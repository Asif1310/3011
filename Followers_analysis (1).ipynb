{
 "cells": [
  {
   "cell_type": "markdown",
   "id": "international-creativity",
   "metadata": {
    "papermill": {},
    "tags": []
   },
   "source": [
    "<img width=\"10%\" alt=\"Naas\" src=\"https://landen.imgix.net/jtci2pxwjczr/assets/5ice39g4.png?w=160\"/>"
   ]
  },
  {
   "cell_type": "markdown",
   "id": "unlimited-bookmark",
   "metadata": {
    "papermill": {},
    "tags": []
   },
   "source": [
    "# New LinkedIn followers analysis (creating a simple data pipeline via the notebook in NAAS, a google sheet, and Tableau \n",
    "<a href=\"https://app.naas.ai/user-redirect/naas/downloader?url=https://raw.githubusercontent.com/jupyter-naas/awesome-notebooks/master/Google%20Sheets/Google_Sheets_Send_data.ipynb\" target=\"_parent\"><img src=\"https://naasai-public.s3.eu-west-3.amazonaws.com/open_in_naas.svg\"/></a>"
   ]
  },
  {
   "cell_type": "markdown",
   "id": "tags_cell",
   "metadata": {
    "papermill": {},
    "tags": []
   },
   "source": [
    "**Tags:** #googlesheets #gsheet #data #naas_drivers #operations #snippet"
   ]
  },
  {
   "cell_type": "markdown",
   "id": "fbbbbc71-6333-4a70-b371-c9b82f8b5299",
   "metadata": {
    "papermill": {},
    "tags": []
   },
   "source": [
    "**Author:** [Asif Syed](https://www.linkedin.com/in/ACoAAAJHE7sB5OxuKHuzguZ9L6lfDHqw--cdnJg/)"
   ]
  },
  {
   "cell_type": "markdown",
   "id": "digital-holder",
   "metadata": {
    "papermill": {},
    "tags": []
   },
   "source": [
    "Pre-requisite: Google Sheet needs to be shared with NAAS' service account (mentioned below)\n",
    "\n",
    "🔗 naas-share@naas-gsheets.iam.gserviceaccount.com\n",
    "\n",
    "Go to the Google Sheet -> File -> Share -> Share with others -> Enter the above service account."
   ]
  },
  {
   "cell_type": "markdown",
   "id": "input_cell",
   "metadata": {
    "papermill": {},
    "tags": []
   },
   "source": [
    "## Input"
   ]
  },
  {
   "cell_type": "markdown",
   "id": "55d9e878-2148-47e3-a13d-09ba77202893",
   "metadata": {
    "papermill": {},
    "tags": []
   },
   "source": [
    "### Import library"
   ]
  },
  {
   "cell_type": "code",
   "execution_count": 1,
   "id": "5fad521a-4a18-4dc7-b13d-98a37172715b",
   "metadata": {
    "execution": {
     "iopub.execute_input": "2022-07-07T09:31:41.939336Z",
     "iopub.status.busy": "2022-07-07T09:31:41.938858Z",
     "iopub.status.idle": "2022-07-07T09:31:43.570431Z",
     "shell.execute_reply": "2022-07-07T09:31:43.569788Z",
     "shell.execute_reply.started": "2022-07-07T09:31:41.939244Z"
    },
    "papermill": {},
    "tags": []
   },
   "outputs": [],
   "source": [
    "from naas_drivers import gsheet\n",
    "from naas_drivers import linkedin\n",
    "import pandas as pd\n",
    "import numpy as np"
   ]
  },
  {
   "cell_type": "markdown",
   "id": "81303223-fdb5-4d2d-ad70-251351a2c1b2",
   "metadata": {
    "papermill": {},
    "tags": []
   },
   "source": [
    "### Variables"
   ]
  },
  {
   "cell_type": "markdown",
   "id": "b1adb3ae-b8a1-45eb-af12-cd8a556be98d",
   "metadata": {},
   "source": [
    "### Get your cookies\n",
    "<a href='https://www.notion.so/LinkedIn-driver-Get-your-cookies-d20a8e7e508e42af8a5b52e33f3dba75'>How to get your cookies ?</a>"
   ]
  },
  {
   "cell_type": "markdown",
   "id": "278e6bfe-feb3-4b1e-aecd-1885c5f8db3c",
   "metadata": {
    "execution": {
     "iopub.execute_input": "2022-07-07T10:01:45.977187Z",
     "iopub.status.busy": "2022-07-07T10:01:45.976851Z",
     "iopub.status.idle": "2022-07-07T10:01:46.003598Z",
     "shell.execute_reply": "2022-07-07T10:01:46.001779Z",
     "shell.execute_reply.started": "2022-07-07T10:01:45.977102Z"
    }
   },
   "source": [
    "You can extract the spreadsheet ID from a Google Sheets URL:\n",
    "\n",
    "Structure of a google sheet url is as follows - https{:}//docs{.}google{.}com/spreadsheets/d/spreadsheetId/edit#gid=0"
   ]
  },
  {
   "cell_type": "markdown",
   "id": "612b9fb8-6875-41fe-99d2-0f2916c88312",
   "metadata": {},
   "source": [
    "Replace the strings 'li_at','jession_id' and 'spreadsheet_id' below with the actual data"
   ]
  },
  {
   "cell_type": "code",
   "execution_count": 2,
   "id": "7c34bff6-9136-4aaf-a692-b38129b7de83",
   "metadata": {
    "execution": {
     "iopub.execute_input": "2022-07-07T09:31:43.573734Z",
     "iopub.status.busy": "2022-07-07T09:31:43.573535Z",
     "iopub.status.idle": "2022-07-07T09:31:43.578190Z",
     "shell.execute_reply": "2022-07-07T09:31:43.577592Z",
     "shell.execute_reply.started": "2022-07-07T09:31:43.573711Z"
    },
    "papermill": {},
    "tags": []
   },
   "outputs": [],
   "source": [
    "LI_AT = 'li_at'  # EXAMPLE AQFAzQN_PLPR4wAAAXc-FCKmgiMit5FLdY1af3-2\n",
    "JSESSIONID = 'jsession_id'  # EXAMPLE ajax:8379907400220387585"
   ]
  },
  {
   "cell_type": "code",
   "execution_count": 2,
   "id": "6545de32-4542-439b-8e7a-aee5e543d208",
   "metadata": {
    "execution": {
     "iopub.execute_input": "2022-07-07T10:03:43.477668Z",
     "iopub.status.busy": "2022-07-07T10:03:43.477381Z",
     "iopub.status.idle": "2022-07-07T10:03:43.484083Z",
     "shell.execute_reply": "2022-07-07T10:03:43.483446Z",
     "shell.execute_reply.started": "2022-07-07T10:03:43.477640Z"
    }
   },
   "outputs": [],
   "source": [
    "spreadsheet_id = \"spreadsheet_id\""
   ]
  },
  {
   "cell_type": "markdown",
   "id": "model_cell",
   "metadata": {
    "papermill": {},
    "tags": []
   },
   "source": [
    "## Model"
   ]
  },
  {
   "cell_type": "markdown",
   "id": "832d8609-0995-43c5-8cc0-0e2041f26f1d",
   "metadata": {},
   "source": [
    "### Connect to LinkedIn"
   ]
  },
  {
   "cell_type": "code",
   "execution_count": 3,
   "id": "2e9b9c63-5db8-405f-8b94-56171333e6e0",
   "metadata": {
    "execution": {
     "iopub.execute_input": "2022-07-07T09:31:43.580690Z",
     "iopub.status.busy": "2022-07-07T09:31:43.580518Z",
     "iopub.status.idle": "2022-07-07T09:31:43.696686Z",
     "shell.execute_reply": "2022-07-07T09:31:43.696087Z",
     "shell.execute_reply.started": "2022-07-07T09:31:43.580670Z"
    }
   },
   "outputs": [
    {
     "data": {
      "text/plain": [
       "<naas_drivers.tools.linkedin.LinkedIn at 0x7f646bf55190>"
      ]
     },
     "execution_count": 3,
     "metadata": {},
     "output_type": "execute_result"
    }
   ],
   "source": [
    "linkedin.connect(LI_AT, JSESSIONID)"
   ]
  },
  {
   "cell_type": "markdown",
   "id": "9571c07f-dc9d-425c-9765-88f9a8ab3dd2",
   "metadata": {},
   "source": [
    "### Connect to gsheet"
   ]
  },
  {
   "cell_type": "code",
   "execution_count": 4,
   "id": "d8dd0ebb-447e-436d-a282-9f4dae3caa1b",
   "metadata": {
    "execution": {
     "iopub.execute_input": "2022-07-07T09:31:43.699810Z",
     "iopub.status.busy": "2022-07-07T09:31:43.699622Z",
     "iopub.status.idle": "2022-07-07T09:31:43.814938Z",
     "shell.execute_reply": "2022-07-07T09:31:43.814217Z",
     "shell.execute_reply.started": "2022-07-07T09:31:43.699790Z"
    }
   },
   "outputs": [
    {
     "data": {
      "text/plain": [
       "<naas_drivers.tools.gsheet.Gsheet at 0x7f646bf55430>"
      ]
     },
     "execution_count": 4,
     "metadata": {},
     "output_type": "execute_result"
    }
   ],
   "source": [
    "gsheet.connect(spreadsheet_id)"
   ]
  },
  {
   "cell_type": "markdown",
   "id": "493f8a59-7988-459b-b4fc-258766eeeb69",
   "metadata": {},
   "source": [
    "### Get the profiles of last 'n' followers (n is the value assigned to limit parameter below)"
   ]
  },
  {
   "cell_type": "code",
   "execution_count": 5,
   "id": "40fb881f-db27-4063-877c-c0d295fa12b4",
   "metadata": {
    "execution": {
     "iopub.execute_input": "2022-07-07T09:31:43.818154Z",
     "iopub.status.busy": "2022-07-07T09:31:43.817838Z",
     "iopub.status.idle": "2022-07-07T09:31:44.868429Z",
     "shell.execute_reply": "2022-07-07T09:31:44.867745Z",
     "shell.execute_reply.started": "2022-07-07T09:31:43.818102Z"
    },
    "tags": []
   },
   "outputs": [],
   "source": [
    "df = linkedin.network.get_followers(limit = 50)\n",
    "profiles = df['PROFILE_URL']"
   ]
  },
  {
   "cell_type": "markdown",
   "id": "7ae62f1a-427f-479c-9224-1f6ece22b187",
   "metadata": {},
   "source": [
    "### Get details like Industry name and location for each profile"
   ]
  },
  {
   "cell_type": "code",
   "execution_count": 6,
   "id": "3369a60d-7f5b-4fb7-b4fc-939efc68cb89",
   "metadata": {
    "execution": {
     "iopub.execute_input": "2022-07-07T09:31:44.871316Z",
     "iopub.status.busy": "2022-07-07T09:31:44.871113Z",
     "iopub.status.idle": "2022-07-07T09:36:13.548761Z",
     "shell.execute_reply": "2022-07-07T09:36:13.548095Z",
     "shell.execute_reply.started": "2022-07-07T09:31:44.871294Z"
    }
   },
   "outputs": [],
   "source": [
    "df_identity = pd.DataFrame()\n",
    "df1 = pd.DataFrame()\n",
    "for counter,profile in enumerate(profiles):\n",
    "    df1 = linkedin.profile.get_identity(profile_url = profile)\n",
    "    df_identity = df_identity.append(df1)\n"
   ]
  },
  {
   "cell_type": "markdown",
   "id": "a0a39dc3-4af9-44e4-b221-e4fb84344a18",
   "metadata": {},
   "source": [
    "### Get details like distance and number of followers for each profile"
   ]
  },
  {
   "cell_type": "code",
   "execution_count": 7,
   "id": "f36f8a12-c708-4034-a7c1-77031d8e12c2",
   "metadata": {
    "execution": {
     "iopub.execute_input": "2022-07-07T09:36:13.550896Z",
     "iopub.status.busy": "2022-07-07T09:36:13.550645Z",
     "iopub.status.idle": "2022-07-07T09:40:39.531807Z",
     "shell.execute_reply": "2022-07-07T09:40:39.531173Z",
     "shell.execute_reply.started": "2022-07-07T09:36:13.550864Z"
    },
    "tags": []
   },
   "outputs": [],
   "source": [
    "df1 = pd.DataFrame()\n",
    "df_network = pd.DataFrame()\n",
    "for counter,profile in enumerate(profiles):\n",
    "    df1 = linkedin.profile.get_network(profile_url = profile)\n",
    "    df_network = df_network.append(df1)"
   ]
  },
  {
   "cell_type": "markdown",
   "id": "64408fe1-5c1b-4292-8d9c-55e757890f8a",
   "metadata": {},
   "source": [
    "### merging three dataframes"
   ]
  },
  {
   "cell_type": "code",
   "execution_count": 8,
   "id": "ac6c868d-03bc-4cd0-977f-f951a6ea9d1f",
   "metadata": {
    "execution": {
     "iopub.execute_input": "2022-07-07T09:40:39.535086Z",
     "iopub.status.busy": "2022-07-07T09:40:39.534870Z",
     "iopub.status.idle": "2022-07-07T09:40:39.547317Z",
     "shell.execute_reply": "2022-07-07T09:40:39.546677Z",
     "shell.execute_reply.started": "2022-07-07T09:40:39.535061Z"
    },
    "tags": []
   },
   "outputs": [],
   "source": [
    "df_intermediate = pd.merge(df, df_identity, how = 'inner', on = 'PROFILE_URL')\n",
    "df_final = pd.merge(df_intermediate, df_network, how = 'inner', on = 'PROFILE_URL')"
   ]
  },
  {
   "cell_type": "code",
   "execution_count": 9,
   "id": "bcee2be9-a171-4dac-8305-18db6da52a91",
   "metadata": {
    "execution": {
     "iopub.execute_input": "2022-07-07T09:40:39.550368Z",
     "iopub.status.busy": "2022-07-07T09:40:39.550159Z",
     "iopub.status.idle": "2022-07-07T09:40:39.667452Z",
     "shell.execute_reply": "2022-07-07T09:40:39.666806Z",
     "shell.execute_reply.started": "2022-07-07T09:40:39.550346Z"
    }
   },
   "outputs": [],
   "source": [
    "df_final.drop(columns = ['FIRSTNAME_x','LASTNAME_x','BIRTHDATE','ADDRESS','PROFILE_PICTURE_x','PROFILE_ID_y','SUMMARY'], axis = 1, inplace = True) #dropping personal information and a few redundant columns"
   ]
  },
  {
   "cell_type": "markdown",
   "id": "output_cell",
   "metadata": {
    "papermill": {},
    "tags": []
   },
   "source": [
    "## Output"
   ]
  },
  {
   "cell_type": "markdown",
   "id": "74f3896b-2eff-4da8-b0cc-81a357c96066",
   "metadata": {
    "papermill": {},
    "tags": []
   },
   "source": [
    "### Send the data"
   ]
  },
  {
   "cell_type": "code",
   "execution_count": 10,
   "id": "1870e2f8-132e-4144-9b3e-c9c11a0e573a",
   "metadata": {
    "execution": {
     "iopub.execute_input": "2022-07-07T09:40:39.670384Z",
     "iopub.status.busy": "2022-07-07T09:40:39.670109Z",
     "iopub.status.idle": "2022-07-07T09:40:40.958145Z",
     "shell.execute_reply": "2022-07-07T09:40:40.957550Z",
     "shell.execute_reply.started": "2022-07-07T09:40:39.670356Z"
    },
    "tags": []
   },
   "outputs": [
    {
     "data": {
      "text/plain": [
       "{'insertedRow': 50}"
      ]
     },
     "execution_count": 10,
     "metadata": {},
     "output_type": "execute_result"
    }
   ],
   "source": [
    "gsheet.send(\n",
    "    sheet_name=\"Data\",\n",
    "    data = df_final\n",
    ")"
   ]
  }
 ],
 "metadata": {
  "kernelspec": {
   "display_name": "Python 3",
   "language": "python",
   "name": "python3"
  },
  "language_info": {
   "codemirror_mode": {
    "name": "ipython",
    "version": 3
   },
   "file_extension": ".py",
   "mimetype": "text/x-python",
   "name": "python",
   "nbconvert_exporter": "python",
   "pygments_lexer": "ipython3",
   "version": "3.9.6"
  },
  "naas": {
   "notebook_id": "b76b3b40-1e87-44f1-a2e4-94115d6a3fb7",
   "notebook_path": "Google Sheets/Google_Sheets_Send_data.ipynb"
  },
  "papermill": {
   "default_parameters": {},
   "environment_variables": {},
   "parameters": {},
   "version": "2.3.3"
  }
 },
 "nbformat": 4,
 "nbformat_minor": 5
}
